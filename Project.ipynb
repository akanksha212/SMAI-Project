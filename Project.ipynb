{
  "nbformat": 4,
  "nbformat_minor": 0,
  "metadata": {
    "colab": {
      "name": "Project.ipynb",
      "version": "0.3.2",
      "provenance": [],
      "collapsed_sections": []
    },
    "kernelspec": {
      "name": "python3",
      "display_name": "Python 3"
    }
  },
  "cells": [
    {
      "metadata": {
        "id": "P7XgRljWaEH_",
        "colab_type": "code",
        "colab": {}
      },
      "cell_type": "code",
      "source": [
        "import numpy as np\n",
        "import pandas as pd\n",
        "\n",
        "from PIL import Image\n",
        "import matplotlib.pyplot as plt\n",
        "import matplotlib.image as mpimg"
      ],
      "execution_count": 0,
      "outputs": []
    },
    {
      "metadata": {
        "id": "cJ5e2z0F87Xh",
        "colab_type": "code",
        "colab": {}
      },
      "cell_type": "code",
      "source": [
        "def Extract_Img_Label(Img_path):\n",
        "  \n",
        "  # Extract image emotion label from Img path name and return label\n",
        "  tokens = Img_path.split('.')\n",
        "  Emotion_id = tokens[1][0:2]\n",
        "  \n",
        "  if Emotion_id == \"HA\":\n",
        "    label = \"HAPPY\"\n",
        "  elif Emotion_id == \"SA\":\n",
        "    label = \"SAD\"\n",
        "  elif Emotion_id == \"SU\":\n",
        "    label = \"SURPRISED\"\n",
        "  elif Emotion_id == \"DI\":\n",
        "    label = \"DISGUSTED\"\n",
        "  elif Emotion_id == \"FE\":\n",
        "    label = \"FEAR\"\n",
        "  elif Emotion_id == \"AN\":\n",
        "    label = \"ANGRY\"\n",
        "  elif Emotion_id == \"NE\":\n",
        "    label = \"NEAUTRAL\"\n",
        "  else\n",
        "    label = \"UNKNOWN\"\n",
        "    \n",
        "  return label"
      ],
      "execution_count": 0,
      "outputs": []
    },
    {
      "metadata": {
        "id": "vyjKXnq7kLgV",
        "colab_type": "code",
        "colab": {}
      },
      "cell_type": "code",
      "source": [
        "def Load_Img(Img_Path='YM.SU3.60.tiff'):\n",
        "  \n",
        "  img = Image.open(Img_Path)\n",
        "  img.show()\n",
        "  return img"
      ],
      "execution_count": 0,
      "outputs": []
    },
    {
      "metadata": {
        "id": "b8qlMJqz_kKO",
        "colab_type": "code",
        "colab": {}
      },
      "cell_type": "code",
      "source": [
        "def Load_TrainData(path):\n",
        "    train = {}\n",
        "    for root, dirs, files in os.walk(path):\n",
        "        for filename in files:\n",
        "            string_filename = str(filename)\n",
        "            if string_filename.find(\"tiff\") != -1:\n",
        "                Imagepath = path + \"/\" + string_filename\n",
        "                train[string_filename] = Load_Img(Imagepath)\n",
        "    return train"
      ],
      "execution_count": 0,
      "outputs": []
    },
    {
      "metadata": {
        "id": "d77oovjjkBjF",
        "colab_type": "code",
        "colab": {}
      },
      "cell_type": "code",
      "source": [
        "def Crop_Img(Img, Dim_Tuple=(70,90,184,230)):\n",
        "  \n",
        "  cropped_img = Img.crop(Dim_Tuple)\n",
        "  imgarray = np.array(cropped_img)\n",
        "\n",
        "  print(imgarray.shape)\n",
        "  print(imgarray)\n",
        "  \n",
        "  return imgarray"
      ],
      "execution_count": 0,
      "outputs": []
    },
    {
      "metadata": {
        "id": "kzvCx-C1k74k",
        "colab_type": "code",
        "colab": {}
      },
      "cell_type": "code",
      "source": [
        "def Display_Img(imgarray):\n",
        "  img = Image.fromarray(imgarray)\n",
        "  imgplot = plt.imshow(img)\n",
        "  plt.show()"
      ],
      "execution_count": 0,
      "outputs": []
    },
    {
      "metadata": {
        "id": "9cJO1ajAjF-z",
        "colab_type": "code",
        "colab": {}
      },
      "cell_type": "code",
      "source": [
        "def mean(Img, i,j, N):\n",
        "  \n",
        "  a=int((N-1)/2)\n",
        "  u=0\n",
        "  \n",
        "  valid_cnt = 0\n",
        "  for k in range(-a,a):\n",
        "    for h in range(-a,a):\n",
        "      if((k+i)>0 and (k+i)<Img.shape[0] and (h+j)>0 and (h+j)<Img.shape[1]):\n",
        "        u=u+Img[k+i][h+j]\n",
        "        valid_cnt = valid_cnt + 1\n",
        "\n",
        "  u=np.float128(u/(valid_cnt*valid_cnt))\n",
        "  return u"
      ],
      "execution_count": 0,
      "outputs": []
    },
    {
      "metadata": {
        "id": "VBLz3D6sjLU1",
        "colab_type": "code",
        "colab": {}
      },
      "cell_type": "code",
      "source": [
        "def st_dev(Img, i,j, N):\n",
        "  \n",
        "  a=int((N-1)/2)\n",
        "  sd=0\n",
        "    \n",
        "  valid_cnt = 0\n",
        "  for k in range(-a,a):\n",
        "    for h in range(-a,a):\n",
        "      if((k+i)>0 and (k+i)<Img.shape[0] and (h+j)>0 and (h+j)<Img.shape[1]):\n",
        "        m=mean(Img, i,j, N)\n",
        "        sd=sd+np.square(Img[k+i][h+j]-m)\n",
        "        valid_cnt = valid_cnt + 1\n",
        "        \n",
        "  sd=np.float128(sd/(valid_cnt*valid_cnt))\n",
        "  sd=np.sqrt(sd)\n",
        "  \n",
        "  return sd"
      ],
      "execution_count": 0,
      "outputs": []
    },
    {
      "metadata": {
        "id": "jFrZPZ9mjTI7",
        "colab_type": "code",
        "colab": {}
      },
      "cell_type": "code",
      "source": [
        "def normalize(Img, N=11):\n",
        "  \n",
        "  Normalized_Img = np.zeros(Img.shape)\n",
        "  \n",
        "  for i in range(0,Img.shape[0]):\n",
        "    for j in range(0,Img.shape[1]):\n",
        "    \n",
        "      print(\"index\",i,j)\n",
        "      m=mean(Img, i,j, N) \n",
        "      sd=st_dev(Img, i,j, N)\n",
        "      print(\"mean std\",m, sd)\n",
        "      \n",
        "      Normalized_Img[i][j]=np.float128((Img[i][j]-m)/(6*sd))\n",
        "      \n",
        "  return Normalized_Img"
      ],
      "execution_count": 0,
      "outputs": []
    },
    {
      "metadata": {
        "id": "I6kLQCVL3ZUg",
        "colab_type": "code",
        "colab": {}
      },
      "cell_type": "code",
      "source": [
        "def Process_Train_Set(Train_DataSet, Normalisation_Window=11, FeatureDetection_Window=11):\n",
        "  \n",
        "  # Assuming Train_Img_DataSet is dictioanry with Key is Image name and value is 2_D aaray with pixel values\n",
        "  Images_Data = {}\n",
        "  \n",
        "  for Train_Img in Train_DataSet.keys():\n",
        "    \n",
        "    # Load train image\n",
        "    Img = Load_Img(Train_Img)\n",
        "    \n",
        "    # Crop the train image\n",
        "    Cropped_Img = Crop_Img(Img, (70,90,184,230))\n",
        "    \n",
        "    # Normalize train image\n",
        "    Normalized_Img = normalize(Cropped_Img, Normalisation_Window)\n",
        "    \n",
        "    # Extract image from normalized image\n",
        "    Feature_Detection_Img = normalize(Normalized_Img, FeatureDetection_Window)\n",
        "    \n",
        "    # Store Feature_Detection_Img to an array of dimension Train_Set_len * No_Img_Rows * No_Img_Cols\n",
        "    Images_Data[Train_Img] = Feature_Detection_Img\n",
        "    \n",
        "    return Images_Data"
      ],
      "execution_count": 0,
      "outputs": []
    },
    {
      "metadata": {
        "id": "z58lf8HizDJT",
        "colab_type": "code",
        "colab": {}
      },
      "cell_type": "code",
      "source": [
        "def Min_Max_Classifer(Train_DataSet, Test_Image_Path, Normalisation_Window=11, FeatureDetection_Window=11, alpha=3):\n",
        "  \n",
        "  # Pre-process train images\n",
        "  Images_Data = Process_Train_Set(Train_DataSet, Normalisation_Window, FeatureDetection_Window)\n",
        "  \n",
        "  # Pre-Process Test Image Load -> Crop -> Normalize -> Feature Detection\n",
        "  Img = Load_Img(Test_Image_Path)\n",
        "  Cropped_Img = Crop_Img(Img, (70,90,184,230))\n",
        "  Normalized_Img = normalize(Cropped_Img, Normalisation_Window)\n",
        "  Feature_Detection_Img = normalize(Normalized_Img, FeatureDetection_Window)\n",
        "  \n",
        "  # Determine Min_Max Distance of test image from each train image\n",
        "  \n",
        "  Max_Similarity = 0\n",
        "  Label_Image = \"\"\n",
        "  \n",
        "  for Train_Img in Train_DataSet.keys():\n",
        "    \n",
        "    Train_Img_Data = Train_DataSet[Train_Img]\n",
        "    Test_Img_Data = Feature_Detection_Img\n",
        "    \n",
        "    # Calculate pixel wise minimum and maximum bet train and test image\n",
        "    Pixel_Min = np.minimum(Train_Img_Data, Test_Img_Data)\n",
        "    Pixel_Max = np.maximum(Train_Img_Data, Test_Img_Data)\n",
        "    \n",
        "    # Calculate pixel wise Min-Max Similarity\n",
        "    Min_Max_ratio = np.divide(Pixel_Min, Pixel_Max)\n",
        "    Min_Max_Sim = np.power(Min_Max_ratio, alpha)\n",
        "    \n",
        "    # Calculate total Min-Max Similarity\n",
        "    Total_Similarity = np.sum(Min_Max_Sim)\n",
        "    \n",
        "    # Update Most similar train image and its similarity with test image\n",
        "    if Total_Similarity > Max_Similarity:\n",
        "      Max_Similarity = Total_Similarity \n",
        "      Label_Image = Train_Img\n",
        "      \n",
        "  # Extract emotion from image name\n",
        "  Emotion_Label = Extract_Img_Label(Label_Image)\n",
        "  return Emotion_Label"
      ],
      "execution_count": 0,
      "outputs": []
    },
    {
      "metadata": {
        "id": "zuWn9pb_Aa7R",
        "colab_type": "code",
        "colab": {}
      },
      "cell_type": "code",
      "source": [
        "DatasetPath = os.getcwd() + \"/ml-face-jaffe-dataset-master/dataset\"\n",
        "train = Load_TrainData(DatasetPath)\n",
        "\n",
        "test_img_path = \"/ml-face-jaffe-dataset-master/dataset/YM.SU3.60.tiff\"\n",
        "\n",
        "Images_Data = Process_Train_Set(train, 11, 11)\n",
        "Emotion_Label = Min_Max_Classifer(Images_Data, test_img_path, 11, 11, 3)\n",
        "\n",
        "print(\"Emotion for the image: \", Emotion_Label)"
      ],
      "execution_count": 0,
      "outputs": []
    }
  ]
}